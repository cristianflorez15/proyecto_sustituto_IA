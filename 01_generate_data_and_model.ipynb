{
  "nbformat": 4,
  "nbformat_minor": 0,
  "metadata": {
    "colab": {
      "provenance": [],
      "authorship_tag": "ABX9TyMguB+Gi+o4SJnVSwRA8EVl",
      "include_colab_link": true
    },
    "kernelspec": {
      "name": "python3",
      "display_name": "Python 3"
    },
    "language_info": {
      "name": "python"
    }
  },
  "cells": [
    {
      "cell_type": "markdown",
      "metadata": {
        "id": "view-in-github",
        "colab_type": "text"
      },
      "source": [
        "<a href=\"https://colab.research.google.com/github/cristianflorez15/proyecto_sustituto_IA/blob/main/01_generate_data_and_model.ipynb\" target=\"_parent\"><img src=\"https://colab.research.google.com/assets/colab-badge.svg\" alt=\"Open In Colab\"/></a>"
      ]
    },
    {
      "cell_type": "code",
      "source": [
        "!pip install opendatasets\n",
        "import opendatasets as od"
      ],
      "metadata": {
        "colab": {
          "base_uri": "https://localhost:8080/"
        },
        "id": "olg6hYtQ1LDp",
        "outputId": "38d7f94b-1264-4b73-a780-fa7213201d7a"
      },
      "execution_count": null,
      "outputs": [
        {
          "output_type": "stream",
          "name": "stdout",
          "text": [
            "Collecting opendatasets\n",
            "  Downloading opendatasets-0.1.22-py3-none-any.whl (15 kB)\n",
            "Requirement already satisfied: tqdm in /usr/local/lib/python3.10/dist-packages (from opendatasets) (4.66.2)\n",
            "Requirement already satisfied: kaggle in /usr/local/lib/python3.10/dist-packages (from opendatasets) (1.5.16)\n",
            "Requirement already satisfied: click in /usr/local/lib/python3.10/dist-packages (from opendatasets) (8.1.7)\n",
            "Requirement already satisfied: six>=1.10 in /usr/local/lib/python3.10/dist-packages (from kaggle->opendatasets) (1.16.0)\n",
            "Requirement already satisfied: certifi in /usr/local/lib/python3.10/dist-packages (from kaggle->opendatasets) (2024.2.2)\n",
            "Requirement already satisfied: python-dateutil in /usr/local/lib/python3.10/dist-packages (from kaggle->opendatasets) (2.8.2)\n",
            "Requirement already satisfied: requests in /usr/local/lib/python3.10/dist-packages (from kaggle->opendatasets) (2.31.0)\n",
            "Requirement already satisfied: python-slugify in /usr/local/lib/python3.10/dist-packages (from kaggle->opendatasets) (8.0.4)\n",
            "Requirement already satisfied: urllib3 in /usr/local/lib/python3.10/dist-packages (from kaggle->opendatasets) (2.0.7)\n",
            "Requirement already satisfied: bleach in /usr/local/lib/python3.10/dist-packages (from kaggle->opendatasets) (6.1.0)\n",
            "Requirement already satisfied: webencodings in /usr/local/lib/python3.10/dist-packages (from bleach->kaggle->opendatasets) (0.5.1)\n",
            "Requirement already satisfied: text-unidecode>=1.3 in /usr/local/lib/python3.10/dist-packages (from python-slugify->kaggle->opendatasets) (1.3)\n",
            "Requirement already satisfied: charset-normalizer<4,>=2 in /usr/local/lib/python3.10/dist-packages (from requests->kaggle->opendatasets) (3.3.2)\n",
            "Requirement already satisfied: idna<4,>=2.5 in /usr/local/lib/python3.10/dist-packages (from requests->kaggle->opendatasets) (3.6)\n",
            "Installing collected packages: opendatasets\n",
            "Successfully installed opendatasets-0.1.22\n"
          ]
        }
      ]
    },
    {
      "cell_type": "markdown",
      "source": [
        "Importación de la Data de la competencia con el usuario y la key vinculados a la misma"
      ],
      "metadata": {
        "id": "u6OGOw1QR2-1"
      }
    },
    {
      "cell_type": "code",
      "source": [
        "dataset_link=\"https://www.kaggle.com/competitions/spaceship-titanic\"\n",
        "od.download(dataset_link)\n",
        "# username:cristianflorezr\n",
        "# key:4b1b3db0c4d1d6ce13e4244f416ba68e"
      ],
      "metadata": {
        "colab": {
          "base_uri": "https://localhost:8080/"
        },
        "id": "tIwCBFTO1QNJ",
        "outputId": "832f11a3-4eb1-4cdd-c0a4-e100666a148d"
      },
      "execution_count": null,
      "outputs": [
        {
          "output_type": "stream",
          "name": "stdout",
          "text": [
            "Please provide your Kaggle credentials to download this dataset. Learn more: http://bit.ly/kaggle-creds\n",
            "Your Kaggle username: cristianflorezr\n",
            "Your Kaggle Key: ··········\n",
            "Downloading spaceship-titanic.zip to ./spaceship-titanic\n"
          ]
        },
        {
          "output_type": "stream",
          "name": "stderr",
          "text": [
            "100%|██████████| 299k/299k [00:00<00:00, 42.5MB/s]"
          ]
        },
        {
          "output_type": "stream",
          "name": "stdout",
          "text": [
            "\n",
            "Extracting archive ./spaceship-titanic/spaceship-titanic.zip to ./spaceship-titanic\n"
          ]
        },
        {
          "output_type": "stream",
          "name": "stderr",
          "text": [
            "\n"
          ]
        }
      ]
    },
    {
      "cell_type": "markdown",
      "source": [
        "Importación de las librerías utilizadas"
      ],
      "metadata": {
        "id": "WYvprGFHSCtF"
      }
    },
    {
      "cell_type": "code",
      "execution_count": null,
      "metadata": {
        "id": "X8LKhhnvzcSY"
      },
      "outputs": [],
      "source": [
        "import numpy as np # linear algebra\n",
        "import pandas as pd # data processing, CSV file I/O (e.g. pd.read_csv)\n",
        "from sklearn.tree import DecisionTreeClassifier\n",
        "from sklearn.model_selection import train_test_split\n",
        "from sklearn.metrics import accuracy_score"
      ]
    },
    {
      "cell_type": "markdown",
      "source": [
        "Definición de los datos para el entrenamiento y para las pruebas según los archivos suministrados por la competencia"
      ],
      "metadata": {
        "id": "S2QH0jz7SJjL"
      }
    },
    {
      "cell_type": "code",
      "source": [
        "train_data=pd.read_csv('train.csv')\n",
        "test_data=pd.read_csv('test.csv')"
      ],
      "metadata": {
        "id": "LjOePrhz1vCB"
      },
      "execution_count": null,
      "outputs": []
    },
    {
      "cell_type": "code",
      "source": [
        "train_dt = train_data.copy()\n",
        "test_dt= test_data.copy()"
      ],
      "metadata": {
        "id": "1DsUXzqGz2bq"
      },
      "execution_count": null,
      "outputs": []
    },
    {
      "cell_type": "markdown",
      "source": [
        "Eliminación de variable que no tienen un impacto en el modelo y su precisión"
      ],
      "metadata": {
        "id": "97JpTz8ASX6n"
      }
    },
    {
      "cell_type": "code",
      "source": [
        "test_dt.drop(['PassengerId', 'Cabin', 'Name'], axis= 1, inplace= True)\n",
        "train_dt.drop(['PassengerId', 'Cabin', 'Name'], axis= 1, inplace= True)"
      ],
      "metadata": {
        "id": "Sq0wUEk3z34Q"
      },
      "execution_count": null,
      "outputs": []
    },
    {
      "cell_type": "markdown",
      "source": [
        "Procesamiento de los datos y entrenamiento del modelo"
      ],
      "metadata": {
        "id": "pet0MUTkS4hI"
      }
    },
    {
      "cell_type": "code",
      "source": [
        "from sklearn.preprocessing import LabelEncoder\n",
        "\n",
        "lb_encoder = LabelEncoder()\n",
        "train_dt['Transported']= lb_encoder.fit_transform(train_dt['Transported'])"
      ],
      "metadata": {
        "id": "-OxvQuoUz6mw"
      },
      "execution_count": null,
      "outputs": []
    },
    {
      "cell_type": "code",
      "source": [
        "num = train_dt.select_dtypes(include = 'number')\n",
        "cat = train_dt.select_dtypes(exclude = 'number')"
      ],
      "metadata": {
        "id": "nCshT1Zk0ZC_"
      },
      "execution_count": null,
      "outputs": []
    },
    {
      "cell_type": "code",
      "source": [
        "num_test = test_dt.select_dtypes(include = 'number')\n",
        "cat_test = test_dt.select_dtypes(exclude = 'number')"
      ],
      "metadata": {
        "id": "f0OoUhZo0bdw"
      },
      "execution_count": null,
      "outputs": []
    },
    {
      "cell_type": "code",
      "source": [
        "for i in train_dt.columns:\n",
        "    if (train_dt[i].isnull().sum() / len(train_dt)) * 100 < 30:\n",
        "        if i in num.columns:\n",
        "            train_dt[i] = train_dt[i].fillna(train_dt[i].median())\n",
        "        else:\n",
        "            train_dt[i] = train_dt[i].fillna(train_dt[i].mode()[0])\n",
        "    else:\n",
        "        train_dt = train_dt.drop(i, axis=1)"
      ],
      "metadata": {
        "id": "5aorbJju0dAP"
      },
      "execution_count": null,
      "outputs": []
    },
    {
      "cell_type": "code",
      "source": [
        "for i in test_dt.columns:\n",
        "    if (test_dt[i].isnull().sum() / len(test_dt)) * 100 < 30:\n",
        "        if i in num_test.columns:\n",
        "            test_dt[i] = test_dt[i].fillna(test_dt[i].median())\n",
        "        else:\n",
        "            test_dt[i] = test_dt[i].fillna(test_dt[i].mode()[0])\n",
        "    else:\n",
        "        test_dt = test_dt.drop(i, axis=1)\n"
      ],
      "metadata": {
        "id": "99x15a0U0ezs"
      },
      "execution_count": null,
      "outputs": []
    },
    {
      "cell_type": "code",
      "source": [
        "from sklearn.preprocessing import OrdinalEncoder\n",
        "\n",
        "# select features to encode\n",
        "features = ['HomePlanet', 'CryoSleep', 'Destination', 'VIP']\n",
        "\n",
        "encoder = OrdinalEncoder()\n",
        "train_dt[features] = encoder.fit_transform(train_dt[features])\n",
        "test_dt[features]= encoder.transform(test_dt[features])"
      ],
      "metadata": {
        "id": "xxWY9uAg0hiw"
      },
      "execution_count": null,
      "outputs": []
    },
    {
      "cell_type": "markdown",
      "source": [
        "Prueba del modelo y eficiencia en su predicción"
      ],
      "metadata": {
        "id": "zO9dtNSLSnhF"
      }
    },
    {
      "cell_type": "code",
      "source": [
        "X= train_dt.drop(['Transported'], axis= 1)\n",
        "y= train_dt.Transported.astype(int)\n",
        "\n",
        "X_train, X_test, y_train, y_test = train_test_split(X, y, test_size=0.2, random_state=42)\n",
        "\n",
        "clf = DecisionTreeClassifier(random_state=42)\n",
        "\n",
        "clf.fit(X_train, y_train)\n",
        "\n",
        "y_pred = clf.predict(X_test)\n",
        "\n",
        "accuracy = accuracy_score(y_test, y_pred)\n",
        "print(\"Accuracy on test:\", accuracy)\n",
        "\n",
        "y_pred_valid = clf.predict(test_dt)"
      ],
      "metadata": {
        "colab": {
          "base_uri": "https://localhost:8080/"
        },
        "id": "EoUdAqAo0jUg",
        "outputId": "47597172-98f2-4d96-bbe7-406af8479d67"
      },
      "execution_count": null,
      "outputs": [
        {
          "output_type": "stream",
          "name": "stdout",
          "text": [
            "Accuracy on test: 0.7245543415756182\n"
          ]
        }
      ]
    }
  ]
}